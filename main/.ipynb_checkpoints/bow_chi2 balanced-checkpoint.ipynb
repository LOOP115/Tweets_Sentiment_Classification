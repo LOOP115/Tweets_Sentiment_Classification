{
 "cells": [
  {
   "cell_type": "markdown",
   "id": "a0b4f3b9",
   "metadata": {},
   "source": [
    "6 comb\n",
    "\n",
    "* vectorization: \n",
    "    a. bow\n",
    "    b. tfidf\n",
    "    * feature selection\n",
    "        a. chi2\n",
    "        b. f-test\n",
    "        c. mi\n",
    "        models:\n",
    "            # logistic: 1008 comb\n",
    "            # svm: 2688\n",
    "            # rf: 8000\n",
    "            \n",
    "            \n",
    "total: 82560 combs\n",
    "lots of 5 cross validation = g\n"
   ]
  },
  {
   "cell_type": "code",
   "execution_count": 1,
   "id": "fd7dc56a",
   "metadata": {},
   "outputs": [],
   "source": [
    "import pandas as pd\n",
    "from sklearn.feature_extraction.text import TfidfVectorizer\n",
    "from sklearn.feature_extraction.text import CountVectorizer\n",
    "from sklearn.datasets import load_digits\n",
    "from sklearn.feature_selection import SelectKBest, chi2, f_classif, mutual_info_classif\n",
    "from sklearn.model_selection import KFold\n",
    "from sklearn.model_selection import train_test_split\n",
    "from sklearn.dummy import DummyClassifier\n",
    "import re\n",
    "from data_cleaning import *\n",
    "import warnings\n",
    "\n",
    "warnings.filterwarnings('ignore')"
   ]
  },
  {
   "cell_type": "markdown",
   "id": "e2e185d1",
   "metadata": {},
   "source": [
    "# 1. Preprocessing"
   ]
  },
  {
   "cell_type": "code",
   "execution_count": 2,
   "id": "d1da73d0",
   "metadata": {},
   "outputs": [],
   "source": [
    "# read data\n",
    "train_data = pd.read_csv(\"Train.csv\", sep=',')\n",
    "test_data = pd.read_csv(\"Test.csv\", sep=',')"
   ]
  },
  {
   "cell_type": "code",
   "execution_count": 3,
   "id": "4a2808e1",
   "metadata": {},
   "outputs": [],
   "source": [
    "#separating instance and label for Train\n",
    "X_train_raw = [x[0] for x in train_data[['text']].values]\n",
    "Y_train = [x[0] for x in train_data[['sentiment']].values]\n",
    "X_test_raw = [x[0] for x in test_data[['text']].values]"
   ]
  },
  {
   "cell_type": "markdown",
   "id": "93e0b5c2",
   "metadata": {},
   "source": [
    "#### (1). data cleaning"
   ]
  },
  {
   "cell_type": "code",
   "execution_count": 4,
   "id": "6e8b8cda",
   "metadata": {},
   "outputs": [],
   "source": [
    "# 1. data cleaning (optional)\n",
    "X_train_need_to_clean = pd.DataFrame(X_train_raw)\n",
    "X_test_need_to_clean = pd.DataFrame(X_test_raw)\n",
    "\n",
    "# remove url, # and @\n",
    "X_train_need_to_clean.replace(\"\\b*https?:\\S*\", '', regex=True, inplace=True)\n",
    "X_train_need_to_clean.replace(\"\\b*@\\S*\", '', regex=True, inplace=True)\n",
    "X_train_need_to_clean.replace(\"\\b*#\\S*\", '', regex=True, inplace=True)\n",
    "X_test_need_to_clean.replace(\"\\b*https?:\\S*\", '', regex=True, inplace=True)\n",
    "X_test_need_to_clean.replace(\"\\b*@\\S*\", '', regex=True, inplace=True)\n",
    "X_test_need_to_clean.replace(\"\\b*#\\S*\", '', regex=True, inplace=True)\n",
    "\n",
    "for i in range(X_train_need_to_clean.shape[0]):\n",
    "    X_train_need_to_clean.loc[i, 0] = ' '.join(text_preprocessing(X_train_need_to_clean.loc[i, 0], remove_html=False))\n",
    "\n",
    "for i in range(X_test_need_to_clean.shape[0]):\n",
    "    X_test_need_to_clean.loc[i, 0] = ' '.join(text_preprocessing(X_test_need_to_clean.loc[i, 0], remove_html=False))    \n",
    "\n",
    "X_train_need_to_clean.replace('[^\\w\\s]','', regex=True, inplace=True)\n",
    "X_test_need_to_clean.replace('[^\\w\\s]','', regex=True, inplace=True)\n",
    "    \n",
    "    \n",
    "X_train_clean = [x[0] for x in X_train_need_to_clean[[0]].values]\n",
    "X_test_clean = [x[0] for x in X_test_need_to_clean[[0]].values]"
   ]
  },
  {
   "cell_type": "markdown",
   "id": "d505cfc6",
   "metadata": {},
   "source": [
    "#### (2). vectorization (transformation)"
   ]
  },
  {
   "cell_type": "code",
   "execution_count": 7,
   "id": "728224a5",
   "metadata": {},
   "outputs": [],
   "source": [
    "#TFIDF\n",
    "tfidf_vectorizer = TfidfVectorizer(ngram_range=(2,2))\n",
    "X_train_tfidf = tfidf_vectorizer.fit_transform(X_train_clean)\n",
    "X_test_tfidf = tfidf_vectorizer.transform(X_test_raw)\n",
    "X_train_tranformed, X_test_transformed = X_train_tfidf, X_test_tfidf\n"
   ]
  },
  {
   "cell_type": "markdown",
   "id": "3df12cbb",
   "metadata": {},
   "source": [
    "# 2. feature selection"
   ]
  },
  {
   "cell_type": "markdown",
   "id": "c8caae81",
   "metadata": {},
   "source": [
    "### type of selector (choose one of them)"
   ]
  },
  {
   "cell_type": "code",
   "execution_count": 8,
   "id": "8b4469c4",
   "metadata": {},
   "outputs": [],
   "source": [
    "# chi2     \n",
    "selector = SelectKBest(chi2,k=15000)\n",
    "X_train_new = selector.fit_transform(X_train_tranformed,Y_train)\n",
    "X_test_new = selector.transform(X_test_transformed)"
   ]
  },
  {
   "cell_type": "markdown",
   "id": "5670eb1c",
   "metadata": {},
   "source": [
    "# 3. training"
   ]
  },
  {
   "cell_type": "markdown",
   "id": "d2a51c48",
   "metadata": {},
   "source": [
    "### split data for validation"
   ]
  },
  {
   "cell_type": "code",
   "execution_count": 9,
   "id": "d3dbc072",
   "metadata": {},
   "outputs": [],
   "source": [
    "train_size = X_train_tranformed.shape[0]\n",
    "test_size = X_test_transformed.shape[0]\n",
    "## random hold out\n",
    "ts = test_size/train_size\n",
    "X_train_s, X_validation, y_train_s, y_validation = train_test_split(X_train_new,Y_train, test_size=ts)"
   ]
  },
  {
   "cell_type": "code",
   "execution_count": 10,
   "id": "72b58f27",
   "metadata": {},
   "outputs": [],
   "source": [
    "cv = round(X_train_s.shape[0] / X_validation.shape[0])"
   ]
  },
  {
   "cell_type": "markdown",
   "id": "57cd4222",
   "metadata": {},
   "source": [
    "#### Prototype selection"
   ]
  },
  {
   "cell_type": "code",
   "execution_count": 11,
   "id": "fc1960fc",
   "metadata": {},
   "outputs": [],
   "source": [
    "from imblearn.under_sampling import RandomUnderSampler\n",
    "rus = RandomUnderSampler(random_state=0)\n",
    "X_resampled, y_resampled = rus.fit_resample(X_train_s, y_train_s)\n",
    "X_train_s, y_train_s = X_resampled, y_resampled"
   ]
  },
  {
   "cell_type": "code",
   "execution_count": 42,
   "id": "4fa56ffe",
   "metadata": {},
   "outputs": [
    {
     "data": {
      "text/plain": [
       "negative    2667\n",
       "neutral     2667\n",
       "positive    2667\n",
       "dtype: int64"
      ]
     },
     "execution_count": 42,
     "metadata": {},
     "output_type": "execute_result"
    }
   ],
   "source": [
    "resampled_labels = pd.DataFrame(y_train_s)\n",
    "resampled_labels.value_counts()"
   ]
  },
  {
   "cell_type": "markdown",
   "id": "cbce0ac1",
   "metadata": {},
   "source": [
    "## base model: 0R"
   ]
  },
  {
   "cell_type": "code",
   "execution_count": 13,
   "id": "77aa3160",
   "metadata": {
    "scrolled": true
   },
   "outputs": [
    {
     "name": "stdout",
     "output_type": "stream",
     "text": [
      "base model score:  0.5806348041464086\n"
     ]
    }
   ],
   "source": [
    "clf = DummyClassifier(strategy='most_frequent')\n",
    "basemodel = clf.fit(X_train_raw, Y_train)\n",
    "print(\"base model score: \", basemodel.score(X_train_raw, Y_train))"
   ]
  },
  {
   "cell_type": "code",
   "execution_count": 14,
   "id": "a97e255e",
   "metadata": {},
   "outputs": [],
   "source": [
    "from sklearn.model_selection import cross_val_score\n",
    "from sklearn.model_selection import RandomizedSearchCV"
   ]
  },
  {
   "cell_type": "markdown",
   "id": "6d974db3",
   "metadata": {},
   "source": [
    "## naive bayes"
   ]
  },
  {
   "cell_type": "code",
   "execution_count": 15,
   "id": "413066e6",
   "metadata": {},
   "outputs": [
    {
     "name": "stdout",
     "output_type": "stream",
     "text": [
      "Gaussian:  0.690768978521069\n",
      "multinomial:  0.3052959501557632\n",
      "complement:  0.31218232497130677\n",
      "bernoulli:  0.6269880308247253\n"
     ]
    }
   ],
   "source": [
    "from sklearn.naive_bayes import GaussianNB\n",
    "from sklearn.naive_bayes import BernoulliNB\n",
    "from sklearn.naive_bayes import MultinomialNB\n",
    "from sklearn.naive_bayes import ComplementNB\n",
    "from sklearn.naive_bayes import CategoricalNB\n",
    "\n",
    "# gussian\n",
    "gnb = GaussianNB()\n",
    "gnb.fit(X_train_s.toarray(), y_train_s)\n",
    "gnb.score(X_validation.toarray(), y_validation)\n",
    "print(\"Gaussian: \", gnb.score(X_validation.toarray(), y_validation))\n",
    "\n",
    "# multinomial\n",
    "mnb = MultinomialNB()\n",
    "mnb.fit(X_train_s.toarray(), y_train_s)\n",
    "mnb.score(X_validation.toarray(), y_validation)\n",
    "print(\"multinomial: \", mnb.score(X_validation.toarray(), y_validation))\n",
    "\n",
    "# complement\n",
    "cnb = ComplementNB()\n",
    "cnb.fit(X_train_s.toarray(), y_train_s)\n",
    "cnb.score(X_validation.toarray(), y_validation)\n",
    "print(\"complement: \", cnb.score(X_validation.toarray(), y_validation))\n",
    "\n",
    "# bernoulli\n",
    "bnb = BernoulliNB()\n",
    "bnb.fit(X_train_s.toarray(), y_train_s)\n",
    "print(\"bernoulli: \", bnb.score(X_validation.toarray(), y_validation))\n",
    "\n",
    "# # categorical\n",
    "# canb = CategoricalNB()\n",
    "# canb.fit(X_train_s.toarray(), y_train_s)\n",
    "# canb.score(X_validation.toarray(), y_validation)\n",
    "# print(\"categorical: \", canb.score(X_validation.toarray(), y_validation))"
   ]
  },
  {
   "cell_type": "markdown",
   "id": "c0ce5e9f",
   "metadata": {},
   "source": [
    "## decision tree"
   ]
  },
  {
   "cell_type": "code",
   "execution_count": 16,
   "id": "fed7ac53",
   "metadata": {},
   "outputs": [],
   "source": [
    "from sklearn.tree import DecisionTreeClassifier\n",
    "\n",
    "dt_hyper = {\n",
    "    'criterion': ['gini', 'entropy'],\n",
    "    'max_depth': range(2,20,2),\n",
    "    'min_samples_leaf': range(1,10,1),\n",
    "    'max_features': ['auto', 'log2']\n",
    "}\n",
    "\n",
    "# random method\n",
    "search_dt = RandomizedSearchCV(DecisionTreeClassifier(), dt_hyper, scoring='accuracy', cv=cv, n_iter=800, n_jobs=-1)\n",
    "dt_result = search_dt.fit(X_train_s, y_train_s)\n",
    "dt_result.best_params_\n",
    "dt_result.best_score_"
   ]
  },
  {
   "cell_type": "code",
   "execution_count": 50,
   "id": "d69c0d82",
   "metadata": {},
   "outputs": [
    {
     "data": {
      "text/plain": [
       "0.35620547431571054"
      ]
     },
     "execution_count": 50,
     "metadata": {},
     "output_type": "execute_result"
    }
   ],
   "source": [
    "dt_result.best_score_"
   ]
  },
  {
   "cell_type": "code",
   "execution_count": 51,
   "id": "035b998b",
   "metadata": {},
   "outputs": [
    {
     "data": {
      "text/plain": [
       "{'min_samples_leaf': 3,\n",
       " 'max_features': 'auto',\n",
       " 'max_depth': 18,\n",
       " 'criterion': 'entropy'}"
      ]
     },
     "execution_count": 51,
     "metadata": {},
     "output_type": "execute_result"
    }
   ],
   "source": [
    "dt_result.best_params_"
   ]
  },
  {
   "cell_type": "code",
   "execution_count": 56,
   "id": "d08261ea",
   "metadata": {},
   "outputs": [],
   "source": [
    "dt_model = DecisionTreeClassifier(criterion= dt_result.best_params_['criterion'], max_depth=dt_result.best_params_['max_depth'],\n",
    "                                  min_samples_leaf=dt_result.best_params_['min_samples_leaf'],\n",
    "                                  max_features=dt_result.best_params_['max_features']).fit(X_train_s, y_train_s)"
   ]
  },
  {
   "cell_type": "markdown",
   "id": "0eff26af",
   "metadata": {},
   "source": [
    "## logistic regression"
   ]
  },
  {
   "cell_type": "code",
   "execution_count": 17,
   "id": "90ef554f",
   "metadata": {},
   "outputs": [
    {
     "name": "stdout",
     "output_type": "stream",
     "text": [
      "{'solver': 'lbfgs', 'penalty': 'none', 'multi_class': 'multinomial', 'max_iter': 200, 'C': 10}\n",
      "0.5175603049618798\n"
     ]
    }
   ],
   "source": [
    "from sklearn.linear_model import LogisticRegression\n",
    "\n",
    "logi_hyper = {\n",
    "    'solver': ['newton-cg', 'lbfgs', 'sag', 'saga'],\n",
    "    'penalty': ['l1', 'l2', 'none', 'elasticnet'],\n",
    "    'C': [1e-3, 1e-2, 1e-1, 1, 10, 100, 1000],\n",
    "    'max_iter': [100, 200, 300],\n",
    "    'multi_class': ['auto', 'ovr', 'multinomial']\n",
    "}\n",
    "\n",
    "search_logi = RandomizedSearchCV(LogisticRegression(n_jobs=-1, class_weight = 'balanced'),logi_hyper, scoring='accuracy', cv=cv, n_iter=101, n_jobs=-1)\n",
    "logi_result = search_logi.fit(X_train_s, y_train_s)\n",
    "\n",
    "pd.DataFrame(logi_result.cv_results_)\n",
    "print(logi_result.best_params_)\n",
    "print(logi_result.best_score_)"
   ]
  },
  {
   "cell_type": "markdown",
   "id": "e28babce",
   "metadata": {},
   "source": [
    "### SVM"
   ]
  },
  {
   "cell_type": "code",
   "execution_count": 18,
   "id": "3938f4d2",
   "metadata": {},
   "outputs": [
    {
     "name": "stdout",
     "output_type": "stream",
     "text": [
      "{'max_iter': 1000, 'kernel': 'rbf', 'gamma': 1, 'degree': 3, 'decision_function_shape': 'ovo', 'C': 10}\n",
      "0.6660417447819023\n"
     ]
    }
   ],
   "source": [
    "from sklearn.svm import SVC\n",
    "\n",
    "svm_hyper = {\n",
    "    'degree': [3, 5, 10, 15],\n",
    "    'gamma': [1,0.1,0.01,0.001],\n",
    "    'C': [1e-3, 1e-2, 1e-1, 1, 10, 100, 1000],\n",
    "    'kernel': ['linear', 'poly', 'rbf', 'sigmod'],\n",
    "    'max_iter': [100, 500, 1000],\n",
    "    'decision_function_shape': ['ovo', 'ovr']\n",
    "}\n",
    "\n",
    "# random method\n",
    "search_svm = RandomizedSearchCV(SVC(class_weight = 'balanced'), svm_hyper, scoring='accuracy', cv=cv, n_iter=269)\n",
    "svm_result = search_svm.fit(X_train_s, y_train_s)\n",
    "\n",
    "pd.DataFrame(svm_result.cv_results_)\n",
    "print(svm_result.best_params_)\n",
    "print(svm_result.best_score_)"
   ]
  },
  {
   "cell_type": "markdown",
   "id": "519020a7",
   "metadata": {},
   "source": [
    "### Random Forest"
   ]
  },
  {
   "cell_type": "code",
   "execution_count": 19,
   "id": "dffd99d4",
   "metadata": {},
   "outputs": [
    {
     "name": "stdout",
     "output_type": "stream",
     "text": [
      "{'n_estimators': 130, 'min_samples_split': 6, 'min_samples_leaf': 2, 'max_features': 'auto', 'max_depth': 18, 'criterion': 'entropy'}\n",
      "0.463817022872141\n"
     ]
    }
   ],
   "source": [
    "from sklearn.ensemble import RandomForestClassifier\n",
    "\n",
    "rf_hyper = {\n",
    "    'n_estimators': [90, 100, 115 , 130],\n",
    "    'criterion': ['gini', 'entropy'],\n",
    "    'max_depth': range(2,20,2),\n",
    "    'min_samples_leaf': range(1,10,1),\n",
    "    'min_samples_split': range(2,10,2),\n",
    "    'max_features': ['auto', 'log2']\n",
    "}\n",
    "\n",
    "# random method\n",
    "search_rf = RandomizedSearchCV(RandomForestClassifier(n_jobs=-1, class_weight = 'balanced'), rf_hyper, scoring='accuracy', cv=cv, n_iter=800, n_jobs=-1)\n",
    "rf_result = search_rf.fit(X_train_s, y_train_s)\n",
    "\n",
    "pd.DataFrame(rf_result.cv_results_)\n",
    "print(rf_result.best_params_)\n",
    "print(rf_result.best_score_)"
   ]
  },
  {
   "cell_type": "markdown",
   "id": "9f316425",
   "metadata": {},
   "source": [
    "### Stacking"
   ]
  },
  {
   "cell_type": "code",
   "execution_count": 60,
   "id": "f4f3740c",
   "metadata": {
    "scrolled": true
   },
   "outputs": [],
   "source": [
    "from sklearn.ensemble import StackingClassifier\n",
    "from sklearn.tree import DecisionTreeClassifier\n",
    "\n",
    "rf_model = RandomForestClassifier(criterion=rf_result.best_params_['criterion'], max_depth=rf_result.best_params_['max_depth'],\n",
    "                                  max_features='log2', min_samples_leaf=rf_result.best_params_['min_samples_leaf'], \n",
    "                                  min_samples_split=rf_result.best_params_['min_samples_split'], n_estimators=rf_result.best_params_['n_estimators'],\n",
    "                                  random_state=0, class_weight = 'balanced').fit(X_train_s, y_train_s)\n",
    "\n",
    "svm_model = SVC(degree=svm_result.best_params_['degree'], gamma=svm_result.best_params_['gamma'] ,C=svm_result.best_params_['C'], \n",
    "                kernel=svm_result.best_params_['kernel'], max_iter=svm_result.best_params_['max_iter'], \n",
    "                decision_function_shape=svm_result.best_params_['decision_function_shape'], class_weight = 'balanced').fit(X_train_s, y_train_s)\n",
    "\n",
    "logi_model = LogisticRegression(solver=logi_result.best_params_['solver'], penalty=logi_result.best_params_['penalty'],\n",
    "                                C=logi_result.best_params_['C'], max_iter=logi_result.best_params_['max_iter'],\n",
    "                                multi_class=logi_result.best_params_['multi_class'], class_weight = 'balanced').fit(X_train_s, y_train_s)\n",
    "\n",
    "estimators = [('rf', rf_model),('svr', svm_model), ('log', logi_model),('dt', dt_model)]"
   ]
  },
  {
   "cell_type": "code",
   "execution_count": 61,
   "id": "580c2e26",
   "metadata": {},
   "outputs": [
    {
     "data": {
      "text/plain": [
       "0.43613707165109034"
      ]
     },
     "execution_count": 61,
     "metadata": {},
     "output_type": "execute_result"
    }
   ],
   "source": [
    "dt_stacking = StackingClassifier(estimators=estimators, final_estimator=DecisionTreeClassifier(), n_jobs=-1).fit(X_train_s, y_train_s)\n",
    "dt_stacking.score(X_validation, y_validation)"
   ]
  },
  {
   "cell_type": "code",
   "execution_count": 62,
   "id": "77d24ffd",
   "metadata": {},
   "outputs": [
    {
     "data": {
      "text/plain": [
       "0.7635677979996721"
      ]
     },
     "execution_count": 62,
     "metadata": {},
     "output_type": "execute_result"
    }
   ],
   "source": [
    "svm_stacking = StackingClassifier(estimators=estimators, final_estimator=SVC(), n_jobs=-1).fit(X_train_s, y_train_s)\n",
    "svm_stacking.score(X_validation, y_validation)"
   ]
  },
  {
   "cell_type": "code",
   "execution_count": 63,
   "id": "e9440ecb",
   "metadata": {},
   "outputs": [
    {
     "data": {
      "text/plain": [
       "0.7622561075586162"
      ]
     },
     "execution_count": 63,
     "metadata": {},
     "output_type": "execute_result"
    }
   ],
   "source": [
    "logi_stacking = StackingClassifier(estimators=estimators, final_estimator=LogisticRegression(max_iter=200), n_jobs=-1).fit(X_train_s, y_train_s)\n",
    "logi_stacking.score(X_validation, y_validation)"
   ]
  },
  {
   "cell_type": "code",
   "execution_count": 24,
   "id": "e297f025",
   "metadata": {},
   "outputs": [
    {
     "data": {
      "text/plain": [
       "0.764551565830464"
      ]
     },
     "execution_count": 24,
     "metadata": {},
     "output_type": "execute_result"
    }
   ],
   "source": [
    "super_estimator = [('ls', logi_stacking), ('ss', svm_stacking), ('ds', dt_stacking),('log', logi_model) ]\n",
    "super_stacking = StackingClassifier(estimators=super_estimator, final_estimator=LogisticRegression(max_iter=200,n_jobs=-1)).fit(X_train_s, y_train_s)\n",
    "super_stacking.score(X_validation, y_validation)                                    "
   ]
  },
  {
   "cell_type": "markdown",
   "id": "e355a709",
   "metadata": {},
   "source": [
    "# 4. Evaluation"
   ]
  },
  {
   "cell_type": "markdown",
   "id": "17893cbe",
   "metadata": {},
   "source": [
    "### score"
   ]
  },
  {
   "cell_type": "code",
   "execution_count": 25,
   "id": "5b4cb991",
   "metadata": {},
   "outputs": [],
   "source": [
    "from sklearn.model_selection import cross_val_score\n",
    "from sklearn import metrics\n",
    "from sklearn.metrics import accuracy_score\n",
    "from sklearn.metrics import precision_score\n",
    "from sklearn.metrics import recall_score\n",
    "from sklearn.metrics import f1_score\n",
    "import numpy as np\n",
    "from mlxtend.evaluate import bias_variance_decomp\n",
    "\n",
    "# this function will take the model and datas, print the evaluation scores and output the precdtion\n",
    "\n",
    "def evaluate_model(model_name: str, model, X_validation, y_validation, X_test_new, cv=5):\n",
    "    # basestic\n",
    "    print(f\"{model_name}: \")\n",
    "\n",
    "    # validation acc\n",
    "    validation_scores = cross_val_score(model,X_validation, y_validation, cv=cv)\n",
    "    vc = np.mean(validation_scores)\n",
    "    print(\"Validation accuracy: \", validation_scores)\n",
    "    \n",
    "    print(\"validation acc for each cross:\", )\n",
    "\n",
    "    # predictions for test data\n",
    "    prediction = model.predict(X_test_new)\n",
    "\n",
    "    validation_label = model.predict(X_validation)\n",
    "    \n",
    "    # individual metrics\n",
    "    precision_m = precision_score(y_validation,validation_label, average = None)\n",
    "    print('individual precision is ', precision_m)\n",
    "\n",
    "    recall_m = recall_score(y_validation,validation_label, average = None)\n",
    "    print('individual recall is ', recall_m)\n",
    "\n",
    "    # f1\n",
    "    f1_m = f1_score(y_validation,validation_label, average = None)\n",
    "    print('individual f1 is ', f1_m)\n",
    "    \n",
    "    # macro metrics\n",
    "    precision_m = precision_score(y_validation,validation_label, average = 'macro')\n",
    "    print('macro precision is ', precision_m)\n",
    "\n",
    "    recall_m = recall_score(y_validation,validation_label, average = 'macro')\n",
    "    print('macro recall is ', recall_m)\n",
    "\n",
    "    # f1\n",
    "    f1_m = f1_score(y_validation,validation_label, average = 'macro')\n",
    "    print('macro f1 is ', f1_m)\n",
    "\n",
    "\n",
    "    # weighted metrics\n",
    "    precision_w = precision_score(y_validation,validation_label, average = 'weighted')\n",
    "    print('weighted precision is ', precision_w)\n",
    "\n",
    "    recall_w = recall_score(y_validation,validation_label, average = 'weighted')\n",
    "    print('weighted recall is ', recall_w)\n",
    "\n",
    "    # f1\n",
    "    f1_w = f1_score(y_validation,validation_label, average = 'weighted')\n",
    "    print('weighted f1 is ', f1_w)\n",
    "    \n",
    "#     preds_test = pd.DataFrame(convert_str_to_num(validation_label, convert_dict))\n",
    "#     y_test = pd.DataFrame(convert_str_to_num(y_validation, convert_dict))\n",
    "    \n",
    "#     mean_pred_test = preds_test.mean(axis = 1)\n",
    "    \n",
    "#     mse = preds_test.apply(lambda pred_test: mean_squared_error(y_test, pred_test)).mean()\n",
    "\n",
    "#     bias_squared = mean_squared_error(y_test, mean_pred_test)\n",
    "\n",
    "#     variance = preds_test.apply(lambda pred_test: mean_squared_error(mean_pred_test, pred_test)).mean()\n",
    "    \n",
    "#     print(preds_test)\n",
    "    \n",
    "#     print(bias_squared)\n",
    "#     print(variance)\n",
    "    print()\n",
    "    \n",
    "    \n",
    "    \n",
    "    return prediction"
   ]
  },
  {
   "cell_type": "markdown",
   "id": "d10bdb3b",
   "metadata": {},
   "source": [
    "## basic models"
   ]
  },
  {
   "cell_type": "code",
   "execution_count": 57,
   "id": "517eede5",
   "metadata": {},
   "outputs": [
    {
     "name": "stdout",
     "output_type": "stream",
     "text": [
      "basemodel 0R: \n",
      "Validation accuracy:  [0.58606557 0.58606557 0.58606557 0.5852459  0.585726  ]\n",
      "validation acc for each cross:\n",
      "individual precision is  [0.         0.58583374 0.        ]\n",
      "individual recall is  [0. 1. 0.]\n",
      "individual f1 is  [0.         0.73883375 0.        ]\n",
      "macro precision is  0.19527791441219874\n",
      "macro recall is  0.3333333333333333\n",
      "macro f1 is  0.24627791563275434\n",
      "weighted precision is  0.34320117471460215\n",
      "weighted recall is  0.5858337432365962\n",
      "weighted f1 is  0.43283373957492927\n",
      "\n",
      "decision tree: \n",
      "Validation accuracy:  [0.59754098 0.58606557 0.58770492 0.59016393 0.585726  ]\n",
      "validation acc for each cross:\n",
      "individual precision is  [0.17787307 0.77419355 0.57487923]\n",
      "individual recall is  [0.98950382 0.01343409 0.08051421]\n",
      "individual f1 is  [0.30154115 0.0264099  0.14124629]\n",
      "macro precision is  0.5089819485887125\n",
      "macro recall is  0.36115070472814953\n",
      "macro f1 is  0.156399113398988\n",
      "weighted precision is  0.6234261393135238\n",
      "weighted recall is  0.19740941137891457\n",
      "weighted f1 is  0.10151495727963726\n",
      "\n"
     ]
    }
   ],
   "source": [
    "base_label = evaluate_model(\"basemodel 0R\", basemodel, X_validation, y_validation,X_test_new)\n",
    "dt_label = evaluate_model(\"decision tree\", dt_model,X_validation, y_validation,X_test_new)\n",
    "# print(evaluate_model(\"guassian nb\", gnb, X_validation.toarray(), y_validation_numberise, X_test_new.toarray()))"
   ]
  },
  {
   "cell_type": "code",
   "execution_count": 27,
   "id": "c1931e68",
   "metadata": {},
   "outputs": [
    {
     "name": "stdout",
     "output_type": "stream",
     "text": [
      "Logistic Regression: \n",
      "Validation accuracy:  [0.61803279 0.60163934 0.61311475 0.60491803 0.60459393]\n",
      "validation acc for each cross:\n",
      "individual precision is  [0.6461825  0.67960089 0.61406844]\n",
      "individual recall is  [0.33110687 0.85782256 0.43707713]\n",
      "individual f1 is  [0.43785489 0.75838179 0.51067194]\n",
      "macro precision is  0.6466172744423684\n",
      "macro recall is  0.5420021865206374\n",
      "macro f1 is  0.5689695384295163\n",
      "weighted precision is  0.657977763563281\n",
      "weighted recall is  0.6653549762256108\n",
      "weighted f1 is  0.6432764680605988\n",
      "\n",
      "SVM: \n",
      "Validation accuracy:  [0.31967213 0.32459016 0.39098361 0.34836066 0.31337162]\n",
      "validation acc for each cross:\n",
      "individual precision is  [0.55707763 0.68566494 0.23092723]\n",
      "individual recall is  [0.8148855  0.22222222 0.53247632]\n",
      "individual f1 is  [0.66175901 0.33565842 0.3221449 ]\n",
      "macro precision is  0.49122326505622477\n",
      "macro recall is  0.5231946792519673\n",
      "macro f1 is  0.4398541117031752\n",
      "weighted precision is  0.5533708192528458\n",
      "weighted recall is  0.3992457779963928\n",
      "weighted f1 is  0.38841796267039475\n",
      "\n"
     ]
    }
   ],
   "source": [
    "logi_label = evaluate_model(\"Logistic Regression\", logi_model, X_validation, y_validation,X_test_new)\n",
    "s_label = evaluate_model(\"SVM\", svm_model, X_validation, y_validation,X_test_new)"
   ]
  },
  {
   "cell_type": "markdown",
   "id": "760b094e",
   "metadata": {},
   "source": [
    "### bagging models"
   ]
  },
  {
   "cell_type": "code",
   "execution_count": 28,
   "id": "a65d8f61",
   "metadata": {},
   "outputs": [
    {
     "name": "stdout",
     "output_type": "stream",
     "text": [
      "random forest: \n",
      "Validation accuracy:  [0.21885246 0.25327869 0.25819672 0.25409836 0.24610336]\n",
      "validation acc for each cross:\n",
      "individual precision is  [0.45789474 0.59515511 0.57309942]\n",
      "individual recall is  [0.08301527 0.95577946 0.06630582]\n",
      "individual f1 is  [0.14054927 0.73354097 0.11885992]\n",
      "macro precision is  0.5420497527852007\n",
      "macro recall is  0.36836684762945304\n",
      "macro f1 is  0.3309833870545667\n",
      "weighted precision is  0.5662245966100097\n",
      "weighted recall is  0.5902606984751598\n",
      "weighted f1 is  0.48268773394412917\n",
      "\n"
     ]
    }
   ],
   "source": [
    "rf_label = evaluate_model(\"random forest\", rf_model, X_validation, y_validation,X_test_new)"
   ]
  },
  {
   "cell_type": "markdown",
   "id": "d5a62a7c",
   "metadata": {},
   "source": [
    "### stacking"
   ]
  },
  {
   "cell_type": "code",
   "execution_count": 64,
   "id": "61bd8fa6",
   "metadata": {},
   "outputs": [
    {
     "name": "stdout",
     "output_type": "stream",
     "text": [
      "svm_stacking: \n",
      "Validation accuracy:  [0.75901639 0.7557377  0.76557377 0.7557377  0.76702215]\n",
      "validation acc for each cross:\n",
      "individual precision is  [0.73952641 0.78634795 0.69353128]\n",
      "individual recall is  [0.77480916 0.89308704 0.44248985]\n",
      "individual f1 is  [0.75675676 0.83632551 0.54027261]\n",
      "macro precision is  0.7398018831513147\n",
      "macro recall is  0.7034620177190659\n",
      "macro f1 is  0.7111182952427261\n",
      "weighted precision is  0.7558098307734993\n",
      "weighted recall is  0.7635677979996721\n",
      "weighted f1 is  0.7509091766294084\n",
      "\n",
      "dt_stacking: \n",
      "Validation accuracy:  [0.69918033 0.70081967 0.70655738 0.68032787 0.6242822 ]\n",
      "validation acc for each cross:\n",
      "individual precision is  [0.55716353 0.70521542 0.28196818]\n",
      "individual recall is  [0.73473282 0.2611251  0.64749662]\n",
      "individual f1 is  [0.63374486 0.38112745 0.39285714]\n",
      "macro precision is  0.5147823765850397\n",
      "macro recall is  0.5477848488104563\n",
      "macro f1 is  0.4692431499348711\n",
      "weighted precision is  0.5772079100268537\n",
      "weighted recall is  0.43613707165109034\n",
      "weighted f1 is  0.4273775780536639\n",
      "\n",
      "logi_stacking: \n",
      "Validation accuracy:  [0.75       0.74262295 0.74180328 0.73032787 0.7514356 ]\n",
      "validation acc for each cross:\n",
      "individual precision is  [0.73266423 0.78984064 0.68287741]\n",
      "individual recall is  [0.76622137 0.88776938 0.45602165]\n",
      "individual f1 is  [0.74906716 0.83594677 0.54685598]\n",
      "macro precision is  0.735127425769501\n",
      "macro recall is  0.7033374687991736\n",
      "macro f1 is  0.710623304335536\n",
      "weighted precision is  0.7540950190001933\n",
      "weighted recall is  0.7622561075586162\n",
      "weighted f1 is  0.7509613581925424\n",
      "\n"
     ]
    }
   ],
   "source": [
    "ss_label = evaluate_model(\"svm_stacking\", svm_stacking, X_validation, y_validation,X_test_new)\n",
    "dts_label = evaluate_model(\"dt_stacking\", dt_stacking, X_validation, y_validation,X_test_new)\n",
    "logi_s_label = evaluate_model(\"logi_stacking\", logi_stacking, X_validation, y_validation,X_test_new)"
   ]
  },
  {
   "cell_type": "code",
   "execution_count": 30,
   "id": "68b2fbaa",
   "metadata": {},
   "outputs": [
    {
     "name": "stdout",
     "output_type": "stream",
     "text": [
      "super stacking: \n",
      "Validation accuracy:  [0.73360656 0.74098361 0.7442623  0.73278689 0.75061526]\n",
      "validation acc for each cross:\n",
      "individual precision is  [0.73303571 0.78775913 0.70118662]\n",
      "individual recall is  [0.78339695 0.89336692 0.43978349]\n",
      "individual f1 is  [0.75738007 0.8372459  0.54054054]\n",
      "macro precision is  0.740660489698541\n",
      "macro recall is  0.7055157854416837\n",
      "macro f1 is  0.7117221719935408\n",
      "weighted precision is  0.7573763951860475\n",
      "weighted recall is  0.764551565830464\n",
      "weighted f1 is  0.7516204038070945\n",
      "\n"
     ]
    },
    {
     "data": {
      "text/plain": [
       "array(['negative', 'negative', 'neutral', ..., 'neutral', 'neutral',\n",
       "       'negative'], dtype='<U8')"
      ]
     },
     "execution_count": 30,
     "metadata": {},
     "output_type": "execute_result"
    }
   ],
   "source": [
    "evaluate_model(\"super stacking\", super_stacking, X_validation, y_validation,X_test_new)"
   ]
  },
  {
   "cell_type": "code",
   "execution_count": 39,
   "id": "ed047f08",
   "metadata": {},
   "outputs": [
    {
     "data": {
      "image/png": "[encoded data removed]",
      "text/plain": [
       "<Figure size 432x288 with 2 Axes>"
      ]
     },
     "metadata": {
      "needs_background": "light"
     },
     "output_type": "display_data"
    }
   ],
   "source": [
    "plot_confusion_matrix(super_stacking, X_validation, y_validation)\n",
    "plt.show()"
   ]
  },
  {
   "cell_type": "markdown",
   "id": "1d208a42",
   "metadata": {},
   "source": [
    "# 5. Error Analysis"
   ]
  },
  {
   "cell_type": "code",
   "execution_count": 65,
   "id": "b87e1253",
   "metadata": {},
   "outputs": [],
   "source": [
    "from sklearn.metrics import plot_confusion_matrix\n",
    "import matplotlib.pyplot as plt"
   ]
  },
  {
   "cell_type": "code",
   "execution_count": 66,
   "id": "60f23361",
   "metadata": {},
   "outputs": [
    {
     "data": {
      "image/png": "[encoded data removed]",
      "text/plain": [
       "<Figure size 432x288 with 2 Axes>"
      ]
     },
     "metadata": {
      "needs_background": "light"
     },
     "output_type": "display_data"
    }
   ],
   "source": [
    "# logistic regression\n",
    "plot_confusion_matrix(logi_model, X_validation, y_validation)\n",
    "plt.show()"
   ]
  },
  {
   "cell_type": "code",
   "execution_count": 67,
   "id": "bd921f17",
   "metadata": {},
   "outputs": [
    {
     "data": {
      "image/png": "[encoded data removed]",
      "text/plain": [
       "<Figure size 432x288 with 2 Axes>"
      ]
     },
     "metadata": {
      "needs_background": "light"
     },
     "output_type": "display_data"
    }
   ],
   "source": [
    "# svm\n",
    "plot_confusion_matrix(svm_model, X_validation, y_validation)\n",
    "plt.show()"
   ]
  },
  {
   "cell_type": "code",
   "execution_count": 68,
   "id": "7ab8fcc3",
   "metadata": {},
   "outputs": [
    {
     "data": {
      "image/png": "[encoded data removed]",
      "text/plain": [
       "<Figure size 432x288 with 2 Axes>"
      ]
     },
     "metadata": {
      "needs_background": "light"
     },
     "output_type": "display_data"
    }
   ],
   "source": [
    "# random forest\n",
    "plot_confusion_matrix(rf_model, X_validation, y_validation)\n",
    "plt.show()"
   ]
  },
  {
   "cell_type": "code",
   "execution_count": 69,
   "id": "e58de3b9",
   "metadata": {},
   "outputs": [
    {
     "data": {
      "image/png": "[encoded data removed]",
      "text/plain": [
       "<Figure size 432x288 with 2 Axes>"
      ]
     },
     "metadata": {
      "needs_background": "light"
     },
     "output_type": "display_data"
    }
   ],
   "source": [
    "# svm_stacking\n",
    "plot_confusion_matrix(svm_stacking, X_validation, y_validation)\n",
    "plt.show()\n"
   ]
  },
  {
   "cell_type": "code",
   "execution_count": 70,
   "id": "ba5a91eb",
   "metadata": {},
   "outputs": [
    {
     "data": {
      "image/png": "[encoded data removed]",
      "text/plain": [
       "<Figure size 432x288 with 2 Axes>"
      ]
     },
     "metadata": {
      "needs_background": "light"
     },
     "output_type": "display_data"
    }
   ],
   "source": [
    "# dt_stacking\n",
    "plot_confusion_matrix(dt_stacking, X_validation, y_validation)\n",
    "plt.show()"
   ]
  },
  {
   "cell_type": "code",
   "execution_count": 71,
   "id": "6b993faa",
   "metadata": {},
   "outputs": [
    {
     "data": {
      "image/png": "[encoded data removed]",
      "text/plain": [
       "<Figure size 432x288 with 2 Axes>"
      ]
     },
     "metadata": {
      "needs_background": "light"
     },
     "output_type": "display_data"
    }
   ],
   "source": [
    "# logi_stacking\n",
    "plot_confusion_matrix(logi_stacking, X_validation, y_validation)\n",
    "plt.show()"
   ]
  },
  {
   "cell_type": "code",
   "execution_count": 76,
   "id": "5e5943e6",
   "metadata": {},
   "outputs": [
    {
     "data": {
      "text/plain": [
       "neutral     5779\n",
       "negative     187\n",
       "positive     133\n",
       "dtype: int64"
      ]
     },
     "execution_count": 76,
     "metadata": {},
     "output_type": "execute_result"
    }
   ],
   "source": [
    "pd.DataFrame(rf_label).value_counts()"
   ]
  },
  {
   "cell_type": "markdown",
   "id": "0e31db14",
   "metadata": {},
   "source": [
    "## output"
   ]
  },
  {
   "cell_type": "markdown",
   "id": "890f7eaf",
   "metadata": {},
   "source": [
    "import csv\n",
    "\n",
    "\n",
    "prediction_label = all_positive[0].to_list()\n",
    "with open('prediction.csv','w') as output:\n",
    "    output.write(\"id,sentiment\\n\")\n",
    "    for i in range(0,len(prediction_label)):\n",
    "        output.write(str(test_data['id'].iloc[i]))\n",
    "        output.write(\",\")\n",
    "        output.write(prediction_label[i])\n",
    "        output.write('\\n')"
   ]
  },
  {
   "cell_type": "markdown",
   "id": "636aa1cf",
   "metadata": {
    "collapsed": true
   },
   "source": [
    "# k fold"
   ]
  },
  {
   "cell_type": "code",
   "execution_count": null,
   "id": "76ad4969",
   "metadata": {},
   "outputs": [],
   "source": [
    "# from sklearn.model_selection import cross_validate\n",
    "# _scoring = ['accuracy', 'precision_weighted', 'recall_weighted', 'f1_weighted']\n",
    "\n",
    "\n",
    "# logi_model = LogisticRegression(solver=logi_result.best_params_['solver'], penalty=logi_result.best_params_['penalty'],\n",
    "#                                 C=logi_result.best_params_['C'], max_iter=logi_result.best_params_['max_iter'],\n",
    "#                                 multi_class=logi_result.best_params_['multi_class'], class_weight = 'balanced')\n",
    "\n",
    "# svm_model = SVC(degree=svm_result.best_params_['degree'], gamma=svm_result.best_params_['gamma'] ,C=svm_result.best_params_['C'], \n",
    "#                 kernel=svm_result.best_params_['kernel'], max_iter=svm_result.best_params_['max_iter'], \n",
    "#                 decision_function_shape=svm_result.best_params_['decision_function_shape'])\n",
    "\n",
    "# rf_model = RandomForestClassifier(criterion=rf_result.best_params_['criterion'], max_depth=rf_result.best_params_['max_depth'],\n",
    "#                                   max_features='log2', min_samples_leaf=rf_result.best_params_['min_samples_leaf'], \n",
    "#                                   min_samples_split=rf_result.best_params_['min_samples_split'], n_estimators=rf_result.best_params_['n_estimators'],\n",
    "#                                   random_state=0)\n",
    "\n",
    "# # logi_f_result = cross_validate(estimator=logi_model, X=X_train_new, y = Y_train, scoring=_scoring, return_train_score=True,cv=5, error_score=\"raise\")\n",
    "\n",
    "# estimators = [('rf', rf_model),('svr', svm_model), ('log', logi_model)]\n",
    "\n",
    "# svm_stacking = StackingClassifier(estimators=estimators, final_estimator=SVC(), n_jobs=-1)\n",
    "# svm_stacking_f_result = cross_validate(estimator=svm_stacking,X=X_train_new, y = Y_train, scoring=_scoring, return_train_score=True,cv=5, error_score=\"raise\", n_jobs =-1)\n"
   ]
  }
 ],
 "metadata": {
  "kernelspec": {
   "display_name": "Python 3 (ipykernel)",
   "language": "python",
   "name": "python3"
  },
  "language_info": {
   "codemirror_mode": {
    "name": "ipython",
    "version": 3
   },
   "file_extension": ".py",
   "mimetype": "text/x-python",
   "name": "python",
   "nbconvert_exporter": "python",
   "pygments_lexer": "ipython3",
   "version": "3.9.7"
  }
 },
 "nbformat": 4,
 "nbformat_minor": 5
}
